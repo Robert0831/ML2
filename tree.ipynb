{
 "cells": [
  {
   "cell_type": "code",
   "execution_count": 37,
   "metadata": {},
   "outputs": [
    {
     "data": {
      "text/plain": [
       "'\\nAuthors: Ashwani Kashyap, Anshul Pardhi\\nhttps://github.com/anshul1004/DecisionTree\\n'"
      ]
     },
     "execution_count": 37,
     "metadata": {},
     "output_type": "execute_result"
    }
   ],
   "source": [
    "'''\n",
    "Authors: Ashwani Kashyap, Anshul Pardhi\n",
    "https://github.com/anshul1004/DecisionTree\n",
    "'''"
   ]
  },
  {
   "cell_type": "code",
   "execution_count": 38,
   "metadata": {},
   "outputs": [],
   "source": [
    "from tree_func import *\n",
    "import pandas as pd\n",
    "import numpy as np\n"
   ]
  },
  {
   "cell_type": "code",
   "execution_count": 39,
   "metadata": {},
   "outputs": [],
   "source": [
    "df = pd.read_csv(\"train.csv\")\n",
    "df.drop(columns=['policy_id'], inplace=True)\n",
    "df=df.sample(frac=1, random_state=101)\n",
    "header = list(df.columns)\n",
    "\n",
    "row=df.shape[0] #58592\n",
    "train_index=int(row*0.8)\n",
    "\n",
    "#train_data=df.iloc[0:int(train_index*0.02)].values.tolist()\n",
    "train_data=df.iloc[0:int(train_index*0.02)]\n",
    "val_data=df.iloc[train_index:train_index+int(row*0.1*0.02)]\n",
    "test_data=df.iloc[train_index+int(row*0.1*0.02):train_index+int(row*0.1*0.02*2)]"
   ]
  },
  {
   "cell_type": "code",
   "execution_count": 40,
   "metadata": {},
   "outputs": [],
   "source": [
    "import random\n",
    "numbers = list(range(1, 42))\n",
    "selected_1 = random.sample(numbers, 20)\n",
    "selected_2 = random.sample(numbers, 20)\n",
    "selected_3 = random.sample(numbers, 20)"
   ]
  },
  {
   "cell_type": "code",
   "execution_count": 42,
   "metadata": {},
   "outputs": [
    {
     "name": "stdout",
     "output_type": "stream",
     "text": [
      "Val Tree accuracy: 0.55\n",
      "Val Tree accuracy: 0.9\n",
      "Val Tree accuracy: 0.9\n",
      "val-combine Accuracy: 0.95\n"
     ]
    }
   ],
   "source": [
    "K=3\n",
    "result=[]\n",
    "for i in range(K):\n",
    "\n",
    "\n",
    "    val=val_data.iloc[eval(\"selected_\"+str(i+1))].values.tolist()\n",
    "    train=train_data.iloc[eval(\"selected_\"+str(i+1))].values.tolist()\n",
    "    \n",
    "    head_t = [header[j] for j in eval(\"selected_\"+str(i+1))]\n",
    "    t = build_tree(train, head_t)\n",
    "    maxAccuracy = computeAccuracy(val, t)\n",
    "    print(\"Val Tree accuracy: \" + str(maxAccuracy))\n",
    "\n",
    "    res = predict(val, t)\n",
    "    result.append(res)\n",
    "\n",
    "ans=np.array(result)\n",
    "ans=np.reshape(result,(K,-1))\n",
    "\n",
    "count_zeros = np.sum(ans == 0, axis=0)\n",
    "count_ones = np.sum(ans== 1, axis=0)\n",
    "result=[]\n",
    "for col in range(ans.shape[1]):\n",
    "    if count_zeros[col] > count_ones[col]:\n",
    "        result.append(0)\n",
    "    elif count_zeros[col] < count_ones[col]:\n",
    "        result.append(1)\n",
    "    else:\n",
    "       result.append(0)\n",
    "\n",
    "acc=0\n",
    "label=np.array(test_data)[:,-1].astype(int)\n",
    "for i in range(len(result)):\n",
    "    if result[i]==label[i]:\n",
    "        acc+=1\n",
    "\n",
    "print(f\"val-combine Accuracy: {acc/len(result)}\")"
   ]
  },
  {
   "cell_type": "code",
   "execution_count": 44,
   "metadata": {},
   "outputs": [
    {
     "name": "stdout",
     "output_type": "stream",
     "text": [
      "Test Tree accuracy: 0.8\n",
      "Test Tree accuracy: 0.9\n",
      "Test Tree accuracy: 0.95\n",
      "test-combine Accuracy: 0.95\n"
     ]
    }
   ],
   "source": [
    "K=3\n",
    "result=[]\n",
    "for i in range(K):\n",
    "\n",
    "\n",
    "    test=test_data.iloc[eval(\"selected_\"+str(i+1))].values.tolist()\n",
    "    train=train_data.iloc[eval(\"selected_\"+str(i+1))].values.tolist()\n",
    "    \n",
    "\n",
    "    head_t = [header[j] for j in eval(\"selected_\"+str(i+1))]\n",
    "    t = build_tree(train, head_t)\n",
    "    maxAccuracy = computeAccuracy(test, t)\n",
    "    print(\"Test Tree accuracy: \" + str(maxAccuracy))\n",
    "\n",
    "    res = predict(test, t)\n",
    "    result.append(res)\n",
    "\n",
    "ans=np.array(result)\n",
    "ans=np.reshape(result,(K,-1))\n",
    "\n",
    "count_zeros = np.sum(ans == 0, axis=0)\n",
    "count_ones = np.sum(ans== 1, axis=0)\n",
    "result=[]\n",
    "for col in range(ans.shape[1]):\n",
    "    if count_zeros[col] > count_ones[col]:\n",
    "        result.append(0)\n",
    "    elif count_zeros[col] < count_ones[col]:\n",
    "        result.append(1)\n",
    "    else:\n",
    "       result.append(0)\n",
    "\n",
    "acc=0\n",
    "label=np.array(test_data)[:,-1].astype(int)\n",
    "for i in range(len(result)):\n",
    "    if result[i]==label[i]:\n",
    "        acc+=1\n",
    "\n",
    "print(f\"test-combine Accuracy: {acc/len(result)}\")"
   ]
  }
 ],
 "metadata": {
  "kernelspec": {
   "display_name": "hwf",
   "language": "python",
   "name": "python3"
  },
  "language_info": {
   "codemirror_mode": {
    "name": "ipython",
    "version": 3
   },
   "file_extension": ".py",
   "mimetype": "text/x-python",
   "name": "python",
   "nbconvert_exporter": "python",
   "pygments_lexer": "ipython3",
   "version": "3.9.18"
  }
 },
 "nbformat": 4,
 "nbformat_minor": 2
}
