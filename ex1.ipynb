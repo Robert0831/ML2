{
 "cells": [
  {
   "cell_type": "code",
   "execution_count": 1,
   "metadata": {},
   "outputs": [],
   "source": [
    "import numpy as np\n",
    "from data import dataset\n",
    "import pandas as pd"
   ]
  },
  {
   "cell_type": "code",
   "execution_count": 2,
   "metadata": {},
   "outputs": [],
   "source": [
    "def RBF_kernek(X1,X2, gamma):\n",
    "    return np.exp(-gamma * np.sum((X1 - X2)**2, axis = -1))\n",
    "    # # Free parameter gamma\n",
    "    # if gamma == None:\n",
    "    #     gamma = 1.0/X.shape[1]\n",
    "        \n",
    "    # # RBF kernel Equation\n",
    "    # K = np.exp(-gamma * np.sum((X - X[:,np.newaxis])**2, axis = -1))\n",
    "    \n",
    "    #return K\n",
    "def RBF( X, bank):\n",
    "    # Transform input data using RBF kernel\n",
    "    transformed_data = np.zeros(len(bank))\n",
    "    for j in range(len(bank)):\n",
    "        transformed_data[j] = RBF_kernek(X, bank[j],0.5)\n",
    "    return transformed_data\n",
    "def pca(X, num_components):\n",
    "    # Center the data\n",
    "    mean = np.mean(X, axis=0)\n",
    "    X_centered = X - mean\n",
    "\n",
    "    # Compute the covariance matrix\n",
    "    covariance_matrix = np.cov(X_centered, rowvar=False)\n",
    "\n",
    "    # Compute eigenvalues and eigenvectors\n",
    "    eigenvalues, eigenvectors = np.linalg.eigh(covariance_matrix)\n",
    "\n",
    "    # Sort eigenvalues and eigenvectors in descending order\n",
    "    sorted_indices = np.argsort(eigenvalues)[::-1]\n",
    "    eigenvalues = eigenvalues[sorted_indices]\n",
    "    eigenvectors = eigenvectors[:, sorted_indices]\n",
    "\n",
    "    # Select the top 'num_components' eigenvectors\n",
    "    top_eigenvectors = eigenvectors[:, :num_components]\n",
    "\n",
    "    # Project the data onto the new subspace\n",
    "    principal_components = np.dot(X_centered, top_eigenvectors)\n",
    "\n",
    "    return principal_components"
   ]
  },
  {
   "cell_type": "code",
   "execution_count": 4,
   "metadata": {},
   "outputs": [],
   "source": [
    "class Perceptron:\n",
    "    def __init__(self, input_size=42, learning_rate=0.1):\n",
    "        self.weights = np.random.random(input_size)\n",
    "        self.bias = 0\n",
    "        self.learning_rate = learning_rate\n",
    "        self.bank=0\n",
    "    def predict(self, inputs):\n",
    "        inputs=RBF(inputs,self.bank)\n",
    "        activation = np.dot(self.weights, inputs) + self.bias\n",
    "        return 1 if activation >=0 else 0\n",
    "\n",
    "    def train(self,data,label):\n",
    "        total_error = 0.0\n",
    "        self.bank=data\n",
    "        for index, (row,labels) in enumerate(zip(data,label)):\n",
    "            prediction = self.predict(row)\n",
    "            row=RBF(row,self.bank)\n",
    "            error = labels - prediction\n",
    "\n",
    "            self.weights += self.learning_rate * error *2* row\n",
    "            self.bias += self.learning_rate * error*2\n",
    "            total_error += error ** 2\n",
    "    def test(self,inputs,label):\n",
    "        acc=0.0\n",
    "        for index, (row,labels) in enumerate(zip(inputs,label)):\n",
    "            prediction = self.predict(row)\n",
    "            if prediction==labels:\n",
    "                acc+=1\n",
    "        print(f\"Accuracy: {acc/(len(label))}\")"
   ]
  },
  {
   "cell_type": "code",
   "execution_count": 18,
   "metadata": {},
   "outputs": [],
   "source": [
    "from collections import Counter\n",
    "def pre_rbf(X,gamma=0.5):\n",
    "    if gamma == None:\n",
    "        gamma = 1.0/X.shape[1]\n",
    "        \n",
    "    # RBF kernel Equation\n",
    "    K = np.exp(-gamma * np.sum((X - X[:,np.newaxis])**2, axis = -1))\n",
    "    \n",
    "    return K\n",
    "class KNNeu:\n",
    "    def __init__(self,data,label,k=21):\n",
    "        self.k = k\n",
    "        self.train_data=data[:100]\n",
    "        self.train_label=label[:100]\n",
    "        self.bank=pre_rbf(self.train_data)\n",
    "    def euclidean_distance(self, x1, x2):\n",
    "        return np.sqrt(np.sum((x1 - x2) ** 2))\n",
    "    def absolute_distance(self, x1, x2):\n",
    "        return np.sum(np.abs(x1 - x2) )\n",
    "    def chebyshev_distance(self, x1, x2):\n",
    "        return np.max(np.abs(x1 - x2) )    \n",
    "    def test(self,val_data,val_label):\n",
    "        pred = [self._predict(x) for x in val_data]\n",
    "        \n",
    "        acc=0\n",
    "        for i in range(len(pred)):\n",
    "            if pred[i]==val_label[i]:\n",
    "                acc+=1\n",
    "        print(f\"Accuracy: {acc/len(pred)}\")\n",
    "\n",
    "    def predict(self,X):\n",
    "        pred = [self._predict(x) for x in X]\n",
    "        return pred\n",
    "    def _predict(self, x):\n",
    "        distances = [self.euclidean_distance(RBF(x,self.train_data), train) for train in self.bank]\n",
    "        # distances = [self.absolute_distance(x, train) for train in self.data.train_data]\n",
    "        # distances = [self.chebyshev_distance(x, train) for train in self.data.train_data]\n",
    "\n",
    "        # 前k小\n",
    "        k_indices = np.argsort(distances)[:self.k]\n",
    "\n",
    "        # Extract the labels of the k nearest neighbor training samples\n",
    "        k_nearest_labels = [self.train_label[i] for i in k_indices]\n",
    "        \n",
    "        #算誰多\n",
    "        common = Counter(k_nearest_labels)\n",
    "        if common[1] >=common[0]:\n",
    "            return 1\n",
    "        elif common[1] < common[0]:\n",
    "            return 0"
   ]
  },
  {
   "cell_type": "code",
   "execution_count": 6,
   "metadata": {},
   "outputs": [],
   "source": [
    "##這裡要改路徑\n",
    "data=dataset('C:\\\\Users\\\\Robert\\\\Desktop\\\\hw2\\\\train.csv')"
   ]
  },
  {
   "cell_type": "code",
   "execution_count": 21,
   "metadata": {},
   "outputs": [
    {
     "name": "stdout",
     "output_type": "stream",
     "text": [
      "0\n",
      "1\n",
      "2\n",
      "3\n",
      "4\n"
     ]
    }
   ],
   "source": [
    "linear_model=Perceptron(input_size=1000)\n",
    "epochs=5\n",
    "for epoch in range(epochs):\n",
    "    linear_model.train(data.train_data,data.train_label)\n",
    "    print(epoch)"
   ]
  },
  {
   "cell_type": "code",
   "execution_count": 18,
   "metadata": {},
   "outputs": [
    {
     "name": "stdout",
     "output_type": "stream",
     "text": [
      "Accuracy: 0.948\n",
      "Accuracy: 0.9380440348182284\n",
      "Accuracy: 0.9368600682593856\n"
     ]
    }
   ],
   "source": [
    "linear_model.test(data.train_data,data.train_label)\n",
    "linear_model.test(data.val_data,data.val_label)\n",
    "linear_model.test(data.test_data,data.test_label)"
   ]
  },
  {
   "cell_type": "code",
   "execution_count": 19,
   "metadata": {},
   "outputs": [
    {
     "name": "stdout",
     "output_type": "stream",
     "text": [
      "Accuracy: 0.9380440348182284\n",
      "Accuracy: 0.9368600682593856\n"
     ]
    }
   ],
   "source": [
    "knn=KNNeu(data.train_data,data.train_label)\n",
    "knn.test(data.val_data,data.val_label)\n",
    "knn.test(data.test_data,data.test_label)"
   ]
  },
  {
   "cell_type": "code",
   "execution_count": 27,
   "metadata": {},
   "outputs": [],
   "source": [
    "def final_combine(model1,model2,data,label):\n",
    "    acc=0\n",
    "    for i in range(len(label)):\n",
    "        pred1=model1.predict(data[i])\n",
    "        pred2=model2.predict([data[i]]) #knn\n",
    "        pre=int((pred1+pred2[0])/2)\n",
    "        if pre==label[i]:\n",
    "            acc+=1\n",
    "    print(f\"Accuracy: {acc/len(label)}\")"
   ]
  },
  {
   "cell_type": "code",
   "execution_count": 29,
   "metadata": {},
   "outputs": [
    {
     "name": "stdout",
     "output_type": "stream",
     "text": [
      "Accuracy: 0.9380440348182284\n",
      "Accuracy: 0.9368600682593856\n"
     ]
    }
   ],
   "source": [
    "final_combine(linear_model,knn,data.val_data,data.val_label)\n",
    "final_combine(linear_model,knn,data.test_data,data.test_label)"
   ]
  }
 ],
 "metadata": {
  "kernelspec": {
   "display_name": "hw",
   "language": "python",
   "name": "python3"
  },
  "language_info": {
   "codemirror_mode": {
    "name": "ipython",
    "version": 3
   },
   "file_extension": ".py",
   "mimetype": "text/x-python",
   "name": "python",
   "nbconvert_exporter": "python",
   "pygments_lexer": "ipython3",
   "version": "3.9.18"
  }
 },
 "nbformat": 4,
 "nbformat_minor": 2
}
